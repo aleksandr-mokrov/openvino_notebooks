{
 "cells": [
  {
   "cell_type": "markdown",
   "source": [
    "# Classification with ConvNeXt and OpenVINO\n",
    "\n",
    "The ConvNeXt model is based on the [A ConvNet for the 2020s](https://arxiv.org/abs/2201.03545) paper. The outcome of this exploration is a family of pure ConvNet models dubbed ConvNeXt. Constructed entirely from standard ConvNet modules, ConvNeXts compete favorably with Transformers in terms of accuracy and scalability, achieving 87.8% ImageNet top-1 accuracy and outperforming Swin Transformers on COCO detection and ADE20K segmentation, while maintaining the simplicity and efficiency of standard ConvNets.\n",
    "The `torchvision.models` subpackage [contains](https://pytorch.org/vision/main/models/convnext.html) several pretrained ConvNeXt model. In this tutorial we will use ConvNeXt Tiny model.\n",
    "\n",
    "### Table of content:\n",
    "- [Prerequisites](#Prerequisites)\n",
    "- [Get a test image](#Get-a-test-image)\n",
    "- [Get a pretrained model.](#Get-a-pretrained-model)\n",
    "- [Define a preprocessing and prepare an input data](#Define-a-preprocessing-and-prepare-an-input-data)\n",
    "- [Use the original model to run an inference](#Use-the-original-model-to-run-an-inference)\n",
    "- [Convert the model to OpenVINO Intermediate representation format](#Convert-the-model-to-OpenVINO-Intermediate-representation-format)\n",
    "- [Use the OpenVINO IR model to run an inference](#Use-the-OpenVINO-IR-model-to-run-an-inference)"
   ],
   "metadata": {
    "collapsed": false
   },
   "id": "c5f666768988bb7e"
  },
  {
   "cell_type": "markdown",
   "source": [
    "## Prerequisites"
   ],
   "metadata": {
    "collapsed": false
   },
   "id": "1c2d1a64285edce7"
  },
  {
   "cell_type": "code",
   "execution_count": null,
   "outputs": [],
   "source": [
    "%pip install -q \"torch==2.0.1\" \"torchvision==0.15.2\"\n",
    "%pip install -q  \"openvino>=2023.1.0\""
   ],
   "metadata": {
    "collapsed": false
   },
   "id": "3fa963993b1a5e68"
  },
  {
   "cell_type": "markdown",
   "source": [
    "## Get a test image\n",
    "First of all lets get a test image from an open dataset. "
   ],
   "metadata": {
    "collapsed": false
   },
   "id": "5043e3dd3be9ad6a"
  },
  {
   "cell_type": "code",
   "execution_count": null,
   "outputs": [],
   "source": [
    "from datasets import load_dataset\n",
    "\n",
    "\n",
    "dataset = load_dataset(\"huggingface/cats-image\")\n",
    "image = dataset[\"test\"][\"image\"][0]\n",
    "\n",
    "display(image)"
   ],
   "metadata": {
    "collapsed": false,
    "is_executing": true
   },
   "id": "7aaf480dc5faad52"
  },
  {
   "cell_type": "markdown",
   "source": [
    "## Get a pretrained model\n",
    "To get a pretrained model just use a specific method of `torchvision.models`for this model."
   ],
   "metadata": {
    "collapsed": false
   },
   "id": "d62bd9f114ad2d43"
  },
  {
   "cell_type": "code",
   "execution_count": null,
   "outputs": [],
   "source": [
    "import torchvision.models as models\n",
    "\n",
    "\n",
    "model = models.convnext_tiny(pretrained=True)"
   ],
   "metadata": {
    "collapsed": false
   },
   "id": "4ff104177ab55761"
  },
  {
   "cell_type": "markdown",
   "source": [
    "## Define a preprocessing and prepare an input data\n",
    "Use `torchvision.transforms` to make a preprocessing."
   ],
   "metadata": {
    "collapsed": false
   },
   "id": "b591169d664ba0a3"
  },
  {
   "cell_type": "code",
   "execution_count": null,
   "outputs": [],
   "source": [
    "import torch\n",
    "import torchvision.transforms as transforms\n",
    "\n",
    "transform = transforms.Compose([\n",
    "    transforms.Resize((224, 224)),\n",
    "    transforms.ToTensor(),\n",
    "    transforms.Normalize(mean=[0.485, 0.456, 0.406], std=[0.229, 0.224, 0.225])\n",
    "])\n",
    "\n",
    "\n",
    "input_data = transform(image)\n",
    "input_data = torch.stack([input_data], dim=0)"
   ],
   "metadata": {
    "collapsed": false
   },
   "id": "7c5ba4260cb1e66"
  },
  {
   "cell_type": "markdown",
   "source": [
    "## Use the original model to run an inference"
   ],
   "metadata": {
    "collapsed": false
   },
   "id": "203262ff4538e315"
  },
  {
   "cell_type": "code",
   "execution_count": null,
   "outputs": [],
   "source": [
    "outputs = model(input_data)"
   ],
   "metadata": {
    "collapsed": false
   },
   "id": "221e6a6140c9a9c9"
  },
  {
   "cell_type": "markdown",
   "source": [
    "And print results"
   ],
   "metadata": {
    "collapsed": false
   },
   "id": "76c099a1da7e44d4"
  },
  {
   "cell_type": "code",
   "execution_count": null,
   "outputs": [],
   "source": [
    "import sys \n",
    "\n",
    "sys.path.append(\"../utils\")\n",
    "from notebook_utils import download_file\n",
    "\n",
    "\n",
    "# download class number to class label mapping\n",
    "imagenet_classes_file_path = download_file(\"https://storage.openvinotoolkit.org/repositories/openvino_notebooks/data/data/datasets/imagenet/imagenet_2012.txt\")\n",
    "imagenet_classes = open(imagenet_classes_file_path).read().splitlines()\n",
    "\n",
    "\n",
    "def print_results(outputs: torch.Tensor):\n",
    "    _, predicted_class = outputs.max(1)\n",
    "    predicted_probability = torch.softmax(outputs, dim=1)[0, predicted_class].item()\n",
    "\n",
    "    print(f\"Predicted Class: {predicted_class.item()}\")\n",
    "    print(f\"Predicted Label: {imagenet_classes[predicted_class.item()]}\")\n",
    "    print(f\"Predicted Probability: {predicted_probability}\")"
   ],
   "metadata": {
    "collapsed": false
   },
   "id": "dc09c6ee2c791ed0"
  },
  {
   "cell_type": "code",
   "execution_count": null,
   "outputs": [],
   "source": [
    "print_results(outputs)"
   ],
   "metadata": {
    "collapsed": false
   },
   "id": "757fcd966112c54"
  },
  {
   "cell_type": "markdown",
   "source": [
    "## Convert the model to OpenVINO Intermediate representation format\n",
    "\n",
    "OpenVINO supports PyTorch through conversion to OpenVINO Intermediate Representation (IR) format. To take the advantage of OpenVINO optimization tools and features, the model should be converted using the OpenVINO Converter tool (OVC). The `openvino.convert_model` function provides Python API for OVC usage. The function returns the instance of the OpenVINO Model class, which is ready for use in the Python interface. However, it can also be saved on disk using `openvino.save_model` for future execution.\n",
    "\n",
    "Starting from OpenVINO 2023.0.0 release OpenVINO supports direct conversion PyTorch models. To perform conversion, we should provide PyTorch model instance and example input into `openvino.convert_model`. For more details, refer to [OpenVINO documentation](https://docs.openvino.ai/2023.1/openvino_docs_model_processing_introduction.html#).\n",
    "\n",
    "Starting from OpenVINO 2023.0.1 release `torchvision.transforms` were added to OpenVINO preprocessing converter. "
   ],
   "metadata": {
    "collapsed": false
   },
   "id": "36af21a44d028ebe"
  },
  {
   "cell_type": "code",
   "execution_count": null,
   "outputs": [],
   "source": [
    "from pathlib import Path\n",
    "\n",
    "import numpy as np\n",
    "import openvino as ov \n",
    "from openvino.preprocess.torchvision.preprocess_converter import PreprocessConverter\n",
    "\n",
    "\n",
    "ov_model_xml_path = Path('models/ov_convnext_model.xml')\n",
    "input_image = np.expand_dims(np.array(image), axis=0)  # it should be a batch\n",
    "\n",
    "if not ov_model_xml_path.exists():\n",
    "    ov_model_xml_path.parent.mkdir(parents=True, exist_ok=True)\n",
    "    converted_model = ov.convert_model(model, example_input=torch.randn(1, 3, 224, 224))\n",
    "    # add transform to OpenVINO preprocessing converting\n",
    "    ov_model = PreprocessConverter.from_torchvision(\n",
    "        model=converted_model,\n",
    "        transform=transform,\n",
    "        input_example=input_image  # you can pass an input image as an input example or generate it\n",
    "    )\n",
    "    ov.save_model(converted_model, ov_model_xml_path)\n",
    "else:\n",
    "    print(f\"IR model {ov_model_xml_path} already exists.\")"
   ],
   "metadata": {
    "collapsed": false
   },
   "id": "459eda7435de45d8"
  },
  {
   "cell_type": "markdown",
   "source": [
    "When the `openvino.save_model` function is used, an OpenVINO model is serialized in the file system as two files with `.xml` and `.bin` extensions. This pair of files is called OpenVINO Intermediate Representation format (OpenVINO IR, or just IR) and useful for efficient model deployment. OpenVINO IR can be loaded into another application for inference using the `openvino.Core.read_model` function. "
   ],
   "metadata": {
    "collapsed": false
   },
   "id": "5516323413843ea6"
  },
  {
   "cell_type": "code",
   "execution_count": null,
   "outputs": [],
   "source": [
    "core = ov.Core()\n",
    "\n",
    "compiled_model = core.compile_model(ov_model_xml_path, device_name='CPU')"
   ],
   "metadata": {
    "collapsed": false
   },
   "id": "68430816abf7f5b3"
  },
  {
   "cell_type": "markdown",
   "source": [
    "## Use the OpenVINO IR model to run an inference"
   ],
   "metadata": {
    "collapsed": false
   },
   "id": "d84cf4a8e4b24011"
  },
  {
   "cell_type": "code",
   "execution_count": null,
   "outputs": [],
   "source": [
    "outputs = compiled_model(input_data)[0]\n",
    "print_results(torch.from_numpy(outputs))"
   ],
   "metadata": {
    "collapsed": false
   },
   "id": "4b7f7686f8220bfc"
  }
 ],
 "metadata": {
  "kernelspec": {
   "display_name": "Python 3",
   "language": "python",
   "name": "python3"
  },
  "language_info": {
   "codemirror_mode": {
    "name": "ipython",
    "version": 2
   },
   "file_extension": ".py",
   "mimetype": "text/x-python",
   "name": "python",
   "nbconvert_exporter": "python",
   "pygments_lexer": "ipython2",
   "version": "2.7.6"
  }
 },
 "nbformat": 4,
 "nbformat_minor": 5
}
